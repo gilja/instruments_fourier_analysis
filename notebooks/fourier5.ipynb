{
 "cells": [
  {
   "cell_type": "code",
   "execution_count": null,
   "metadata": {},
   "outputs": [],
   "source": [
    "import os\n",
    "import sys\n",
    "sys.path.append('../')\n",
    "\n",
    "from settings import config as cfg\n",
    "from utils import io_utils as iou\n",
    "from utils import waveform_plot_utils as wpu\n",
    "from utils import fourier_math_utils as fmu\n",
    "\n",
    "import pyaudio\n",
    "import numpy as np\n",
    "#import scipio\n",
    "from scipy.io import wavfile\n",
    "from scipy.io.wavfile import write\n",
    "from io import BytesIO\n",
    "from IPython.display import Audio, display, HTML\n",
    "import matplotlib.pyplot as plt\n",
    "from weasyprint import HTML\n",
    "import sympy\n",
    "import librosa\n",
    "import pandas as pd\n",
    "import re\n",
    "\n",
    "from IPython.display import Audio\n",
    "import ipywidgets as widgets\n",
    "\n",
    "import plotly.graph_objs as go\n",
    "from plotly.subplots import make_subplots\n",
    "from IPython.display import display, clear_output\n",
    "import math\n",
    "import plotly.io as pio"
   ]
  },
  {
   "cell_type": "markdown",
   "metadata": {},
   "source": [
    "# Define functions"
   ]
  },
  {
   "cell_type": "code",
   "execution_count": null,
   "metadata": {},
   "outputs": [],
   "source": [
    "# Utility function two display two audios side by side in the notebook\n",
    "def audioSideBySide(name1, audio1, name2, audio2):\n",
    "    text = '''\n",
    "%s%s\n",
    "%s%s\n",
    "'''% (name1, name2, audio1._repr_html_(), audio2._repr_html_())\n",
    "    display(HTML(text))"
   ]
  },
  {
   "cell_type": "code",
   "execution_count": null,
   "metadata": {},
   "outputs": [],
   "source": [
    "def fourierSeries(period, N):\n",
    "    \"\"\"\n",
    "    Calculate the Fourier series coefficients up to the Nth harmonic.\n",
    "\n",
    "    This function computes the Fourier series coefficients for a given periodic signal\n",
    "    represented as a discrete set of data points. It returns the coefficients (an, bn)\n",
    "    for each harmonic up to the Nth, including the average term a0.\n",
    "\n",
    "    The Fourier series of a periodic function f(t) with period T is given by:\n",
    "    f(t) = a0 + ∑(an * cos(2 * pi * n * t / T) + bn * sin(2 * pi * n * t / T)),\n",
    "    where:\n",
    "    - a0 is the average value of the function over one period,\n",
    "    - an and bn are the cosine and sine coefficients for the nth harmonic, respectively.\n",
    "\n",
    "    The coefficients are calculated using the integrals:\n",
    "    an = (2/T) * ∑(f(t) * cos(2 * pi * n * t / T))\n",
    "    bn = (2/T) * ∑(f(t) * sin(2 * pi * n * t / T))\n",
    "\n",
    "    Parameters:\n",
    "        period (np.ndarray): An array of sampled values from one period of the periodic function.\n",
    "        N (int): The number of harmonics to calculate, including the zeroth term.\n",
    "\n",
    "    Returns:\n",
    "        np.ndarray: An array of tuples, each containing the cosine and sine coefficients (an, bn)\n",
    "                    for n ranging from 0 to N.\n",
    "\n",
    "    Examples:\n",
    "        >>> period = np.array([0, 1, 0, -1])  # Sampled values for one period of a square wave\n",
    "        >>> fourierSeries(period, 3)\n",
    "        array([[ 0. ,  0. ],\n",
    "               [ 0. ,  1. ],\n",
    "               [ 0. ,  0. ],\n",
    "               [ 0. , -0.5]])\n",
    "    \"\"\"\n",
    "    \n",
    "    result = []\n",
    "    \n",
    "    T = len(period)\n",
    "    t = np.arange(T)\n",
    "    \n",
    "    for n in range(N+1):\n",
    "        \n",
    "        an = 2/T*(period * np.cos(2*np.pi*n*t/T)).sum()\n",
    "        bn = 2/T*(period * np.sin(2*np.pi*n*t/T)).sum()\n",
    "        \n",
    "        result.append((an, bn))\n",
    "        \n",
    "    return np.array(result)"
   ]
  },
  {
   "cell_type": "markdown",
   "metadata": {},
   "source": [
    "Function that takes Fourier coefficients and reconstructs the original waveform"
   ]
  },
  {
   "cell_type": "code",
   "execution_count": null,
   "metadata": {},
   "outputs": [],
   "source": [
    "def reconstruct(P, anbn):\n",
    "    \"\"\"Sum up sines and cosines according to the coefficients to \n",
    "    produce a reconstruction of the original waveform\"\"\"\n",
    "    result = 0\n",
    "    t = np.arange(P)\n",
    "    for n, (a, b) in enumerate(anbn):\n",
    "        if n == 0:\n",
    "            a = a/2\n",
    "        result = result + a*np.cos(2*np.pi*n*t/P) + b * np.sin(2*np.pi*n*t/P)\n",
    "    return result"
   ]
  },
  {
   "cell_type": "markdown",
   "metadata": {},
   "source": [
    "Function that takes just one period of the sound"
   ]
  },
  {
   "cell_type": "code",
   "execution_count": null,
   "metadata": {},
   "outputs": [],
   "source": [
    "def extractPeriod(data, rate, t_start, t_end):\n",
    "    t = np.arange(0,len(data))/rate\n",
    "    plt.plot(t, data)\n",
    "\n",
    "    duration = t_end - t_start\n",
    "    plt.xlabel('$t$'); plt.ylabel('$x(t)$');\n",
    "\n",
    "\n",
    "    sample_start = int(t_start * rate)\n",
    "    sample_end = int(t_end*rate)\n",
    "\n",
    "    period = data[sample_start:sample_end]\n",
    "    #audioSideBySide(\"Original\", display(Audio(data=data,rate=rate)), \n",
    "    #                \"Extracted period\", display(Audio(np.tile(period, int(1/duration)), rate=rate)))\n",
    "    \n",
    "    print(\"Original\")\n",
    "    display(Audio(data=data,rate=rate))\n",
    "    print(\"Extracted period\")\n",
    "    display(Audio(np.tile(period, int(1/duration)), rate=rate))\n",
    "    \n",
    "    return period, rate"
   ]
  },
  {
   "cell_type": "markdown",
   "metadata": {},
   "source": [
    "Function that tries to reconstruct the sound using N harmonics"
   ]
  },
  {
   "cell_type": "code",
   "execution_count": null,
   "metadata": {},
   "outputs": [],
   "source": [
    "def approximateUpToNthHarmonic(period, rate, N, T, name):\n",
    "    t = np.arange(len(period)) / rate\n",
    "    duration = t.max()\n",
    "    F = fourierSeries(period, N)\n",
    "    #powers = np.sqrt(np.sum(F**2, axis=1))\n",
    "    powers = np.sqrt(np.sum(F**2, axis=1))\n",
    "    powers_sum = np.sum(powers)\n",
    "    powers = powers / powers_sum\n",
    "    np.set_printoptions(suppress=True) # suppress scientific notation\n",
    "    powers = powers.round(4) # rounding to 4 decimal places   \n",
    "    powers_print = powers*100\n",
    "    powers_print = np.array(list(map(lambda x: \"{:.4f}\".format(x).replace('.',',').rstrip('0'), powers_print)))\n",
    "\n",
    "\n",
    "    reconstructed = reconstruct(len(period), F)\n",
    "    powers[0] = 0 # I don't want to see the zero-frequency cosine since it is just a constant signal\n",
    "    \n",
    "    functions = [''] * N\n",
    "    #print(\"The function that generated the data in the 'reconstructed' array is:\")\n",
    "    #print(\"f(t) = \", end=\"\")\n",
    "    for n, (a, b) in enumerate(F):\n",
    "        if n == 0:\n",
    "            print(f\"{a/2:.3f}\", end=\"\")\n",
    "            function = f\"{a/2:.3f}\"\n",
    "        else:\n",
    "            print(f\" + {a:.3f}*cos(2*pi*{n}*t/{T}) + {b:.3f}*sin(2*pi*{n}*t/{T})\", end=\"\")\n",
    "            print()\n",
    "            if functions[0] != \"\":\n",
    "                function = f\" + {a:.3f}*cos(2*pi*{n}*t/{T}) + {b:.3f}*sin(2*pi*{n}*t/{T})\"\n",
    "            else:\n",
    "                function += f\" + {a:.3f}*cos(2*pi*{n}*t/{T}) + {b:.3f}*sin(2*pi*{n}*t/{T})\"\n",
    "            functions[n-1] = function\n",
    "        \n",
    "    plt.subplots(figsize=(12,4)) #inače zakomentirano\n",
    "    plt.subplot(121)             #inače zakomentirano\n",
    "    #plt.xlabel('t [ms]', fontsize=16)\n",
    "    #plt.ylabel('y(t)', fontsize=16)\n",
    "    #plt.plot(t*1000, period, label='Original') \n",
    "    #plt.plot(t*1000, reconstructed, label='Reconstructed')\n",
    "    plt.subplot(122)             #inače zakomentirano\n",
    "    plt.bar(np.arange(len(powers)), powers)        #inače zakomentirano\n",
    "    plt.xlabel('harmonic', fontsize=16)\n",
    "    plt.ylabel('<P>', fontsize=16)                 #inače zakomentirano\n",
    "    print(powers_print)\n",
    "    #plt.savefig(\"./analysed/reco_n\" + str(N) + \"_\" + name + \".pdf\")\n",
    "    \n",
    "    print(\"Original\")\n",
    "    display(Audio(data=np.tile(period, int(0.7/duration)), rate=rate))\n",
    "    print(\"Reconstructed up to %d harmonics\" % N)\n",
    "    display(Audio(data=np.tile(reconstructed, int(0.7/duration)), rate=rate))\n",
    "    write(\"../results/analysed/reco_n\" + str(N) + \"_\" + name + \".wav\", rate, np.tile(reconstructed, int(0.7/duration)))\n",
    "    \n",
    "    return(F, functions, powers)"
   ]
  },
  {
   "cell_type": "markdown",
   "metadata": {},
   "source": [
    "Function that draws each harmonic"
   ]
  },
  {
   "cell_type": "code",
   "execution_count": null,
   "metadata": {},
   "outputs": [],
   "source": [
    "def draw_harmonics(functions, x_min, x_max, y_min, y_max, name, limit_N):\n",
    "    \n",
    "    for N, i in enumerate(functions):\n",
    "    \n",
    "        # parse the function string using sympy\n",
    "        t = sympy.symbols('t')\n",
    "        f = sympy.sympify(i)\n",
    "\n",
    "        # create a list of t values within the specified range\n",
    "        t_values = np.linspace(x_min, x_max, 1000)\n",
    "\n",
    "        # evaluate the function for each value of t\n",
    "        y_values = [f.evalf(subs={t: value}) for value in t_values]\n",
    "\n",
    "        # plot the function using matplotlib\n",
    "        plt.plot(t_values, y_values)\n",
    "\n",
    "        # set the x and y axis limits\n",
    "        plt.xlim(x_min, x_max)\n",
    "        plt.ylim(y_min, y_max)\n",
    "\n",
    "        # add labels and a title to the plot\n",
    "        plt.xlabel('t [ms]', fontsize=16)\n",
    "        plt.ylabel('y(t)', fontsize=16)\n",
    "        plt.title('Plot of the function y(t)', fontsize=16)\n",
    "        \n",
    "        if N < limit_N:\n",
    "            print(\"y(t) = \" + str(f))\n",
    "            print(\"y(t) = \" + sympy.latex(f))\n",
    "            plt.savefig(\"../results/analysed/f_harmonic_\" + str(N+1) + \"_\" + name + \".pdf\")\n",
    "            plt.show()"
   ]
  },
  {
   "cell_type": "markdown",
   "metadata": {},
   "source": [
    "Function that takes as a string mathematical function and extracts fourier coefficients and frequency"
   ]
  },
  {
   "cell_type": "code",
   "execution_count": null,
   "metadata": {},
   "outputs": [],
   "source": [
    "def extract_a_b_f(function):\n",
    "    a = b = frequency = 0\n",
    "    try:\n",
    "        # Extract the coefficient of the sine term\n",
    "        match = re.search(\"(-?\\d+\\.\\d+)[*]sin\\((\\d+\\.\\d+)[*]pi[*]t\\)\", function)\n",
    "        if match:\n",
    "            a = float(match.group(1))\n",
    "            frequency = float(match.group(2))/2\n",
    "        \n",
    "        # Extract the coefficient of the cosine term\n",
    "        match = re.search(\"(-?\\d+\\.\\d+)[*]cos\\((\\d+\\.\\d+)[*]pi[*]t\\)\", function)\n",
    "        if match:\n",
    "            b = float(match.group(1))\n",
    "            frequency = float(match.group(2))/2*1000\n",
    "        \n",
    "    except:\n",
    "        pass\n",
    "    return a, b, frequency"
   ]
  },
  {
   "cell_type": "markdown",
   "metadata": {},
   "source": [
    "Function that produces the sound from the function in string format"
   ]
  },
  {
   "cell_type": "code",
   "execution_count": null,
   "metadata": {},
   "outputs": [],
   "source": [
    "def produce_sound (functions, powers, name, limit_N):\n",
    "    duration = 1.5\n",
    "    total_power = np.sum(powers)\n",
    "    samples_together = 0\n",
    "    rate = 44100\n",
    "    for i, func in enumerate(functions):\n",
    "        t = sympy.symbols('t')\n",
    "        function = sympy.sympify(func)\n",
    "        a, b, f = extract_a_b_f(str(function))\n",
    "        frequency = f\n",
    "        amplitude = np.sqrt(a*a + b*b) * np.sqrt(powers[i+1] / total_power)\n",
    "        t = np.linspace(0, duration, int(duration * rate))\n",
    "        samples = amplitude * np.sin(2 * np.pi * frequency * t)\n",
    "        if i >= 0:\n",
    "            samples_together += samples\n",
    "        if i < limit_N:\n",
    "            audio = Audio(samples, rate=rate)\n",
    "            display(audio)\n",
    "            write(f\"../results/analysed/f_harmonic_{i+1}_{name}.wav\", rate, samples)"
   ]
  },
  {
   "cell_type": "markdown",
   "metadata": {},
   "source": [
    "# Loading sound"
   ]
  },
  {
   "cell_type": "code",
   "execution_count": null,
   "metadata": {},
   "outputs": [],
   "source": [
    "files = [os.path.join(cfg.PATH_INSTRUMENT_SAMPLES, name) for name in os.listdir(cfg.PATH_INSTRUMENT_SAMPLES)]\n",
    "sounds = []\n",
    "\n",
    "for file in files:\n",
    "    path = os.path.join(cfg.PATH_INSTRUMENT_SAMPLES, file)\n",
    "    sound, rate = iou.load_sound(path)\n",
    "    sounds.append((sound, rate))"
   ]
  },
  {
   "cell_type": "code",
   "execution_count": null,
   "metadata": {},
   "outputs": [],
   "source": [
    "iou.play_audio(files, n_columns=4)"
   ]
  },
  {
   "cell_type": "code",
   "execution_count": null,
   "metadata": {},
   "outputs": [],
   "source": [
    "zoom_percentages = [0.008, 0.009, 0.01, 0.005, 0.005, 0.009, 0.003,\n",
    "                    0.004, 0.015, 0.005, 0.015, 0.006, 0.009, 0.005, \n",
    "                    0.005, 0.005, 0.008]\n",
    "wpu.plot_waveform(sounds, zoom_percentages, files)"
   ]
  },
  {
   "cell_type": "markdown",
   "metadata": {},
   "source": [
    "# Extract one period"
   ]
  },
  {
   "cell_type": "code",
   "execution_count": null,
   "metadata": {},
   "outputs": [],
   "source": [
    "periods = []\n",
    "rates = []\n",
    "\n",
    "name = \"piano\"\n",
    "periods, data_rates = fmu.extract_periods_and_data_rates(sounds)\n",
    "\n",
    "\n",
    "\n",
    "\n",
    "for n, (S, P) in enumerate(zip(sounds, periodBounds)): # (S, P) = data, rate, period_start, period_end\n",
    "    plt.subplot(len(sounds), 1, n+1)\n",
    "    period, rate = extractPeriod(S[0], S[1], P[0], P[1])\n",
    "    periods.append(period); rates.append(rate)\n",
    "    \n",
    "    if name == 'cello':\n",
    "        plt.axis([0.8260, 0.8380, -1, 1]) # cello\n",
    "        plt.axvline(x=periodBounds[0][0], color = \"red\") #cello\n",
    "        plt.axvline(x=periodBounds[0][1], color = \"red\") #cello\n",
    "        \n",
    "    if name == 'clarinet':\n",
    "        plt.axis([2.088, 2.095, -1, 1])\n",
    "        plt.axvline(x=periodBounds[0][0], color = \"red\")\n",
    "        plt.axvline(x=periodBounds[0][1], color = \"red\")\n",
    "        \n",
    "    if name == 'double_bass':\n",
    "        plt.axis([0.6370,0.6480 , -1, 1])\n",
    "        plt.axvline(x=periodBounds[0][0], color = \"red\")\n",
    "        plt.axvline(x=periodBounds[0][1], color = \"red\")\n",
    "        \n",
    "    if name == 'vocal':\n",
    "        plt.axis([0.656, 0.666, -1, 1])\n",
    "        plt.axvline(x=periodBounds[0][0], color = \"red\")\n",
    "        plt.axvline(x=periodBounds[0][1], color = \"red\")\n",
    "        \n",
    "    if name == 'flute':\n",
    "        plt.axis([0.779, 0.7825, -1, 1])\n",
    "        plt.axvline(x=periodBounds[0][0], color = \"red\")\n",
    "        plt.axvline(x=periodBounds[0][1], color = \"red\")\n",
    "        \n",
    "    if name == 'guitar_nylon':\n",
    "        plt.axis([0.441, 0.447, -0.2, 0.2])\n",
    "        plt.axvline(x=periodBounds[0][0], color = \"red\")\n",
    "        plt.axvline(x=periodBounds[0][1], color = \"red\")\n",
    "        \n",
    "    if name == 'oboe':\n",
    "        plt.axis([0.546, 0.553, -1.2, 1.2])\n",
    "        plt.axvline(x=periodBounds[0][0], color = \"red\")\n",
    "        plt.axvline(x=periodBounds[0][1], color = \"red\")\n",
    "        \n",
    "    if name == 'piano':\n",
    "        plt.axis([0.757, 0.765, -0.3, 0.3])\n",
    "        plt.axvline(x=periodBounds[0][0], color = \"red\")\n",
    "        plt.axvline(x=periodBounds[0][1], color = \"red\")\n",
    "        \n",
    "    if name == 'piccolo':\n",
    "        plt.axis([0.6915, 0.6945, -1, 1])\n",
    "        plt.axvline(x=periodBounds[0][0], color = \"red\")\n",
    "        plt.axvline(x=periodBounds[0][1], color = \"red\")\n",
    "        \n",
    "    if name == 'sax_alto':\n",
    "        plt.axis([1.2625, 1.2665, -1, 1])\n",
    "        plt.axvline(x=periodBounds[0][0], color = \"red\")\n",
    "        plt.axvline(x=periodBounds[0][1], color = \"red\")\n",
    "        \n",
    "    if name == 'sax_baritone':\n",
    "        plt.axis([2.130, 2.160, -1, 1])\n",
    "        plt.axvline(x=periodBounds[0][0], color = \"red\")\n",
    "        plt.axvline(x=periodBounds[0][1], color = \"red\")\n",
    "        \n",
    "    if name == 'sax_soprano':\n",
    "        plt.axis([1.510, 1.520, -1, 1])\n",
    "        plt.axvline(x=periodBounds[0][0], color = \"red\")\n",
    "        plt.axvline(x=periodBounds[0][1], color = \"red\")\n",
    "        \n",
    "    if name == 'sax_tenor':\n",
    "        plt.axis([1.084, 1.093, -1, 1])\n",
    "        plt.axvline(x=periodBounds[0][0], color = \"red\")\n",
    "        plt.axvline(x=periodBounds[0][1], color = \"red\")\n",
    "        \n",
    "    if name == 'guitar_metal':\n",
    "        plt.axis([0.593, 0.601, -0.3, 0.3])\n",
    "        plt.axvline(x=periodBounds[0][0], color = \"red\")\n",
    "        plt.axvline(x=periodBounds[0][1], color = \"red\")\n",
    "        \n",
    "    if name == 'trumpet':\n",
    "        plt.axis([1.1275, 1.1315, -1, 1])\n",
    "        plt.axvline(x=periodBounds[0][0], color = \"red\")\n",
    "        plt.axvline(x=periodBounds[0][1], color = \"red\")\n",
    "        \n",
    "    if name == 'violin':\n",
    "        plt.axis([1.286, 1.291, -1, 1])\n",
    "        plt.axvline(x=periodBounds[0][0], color = \"red\")\n",
    "        plt.axvline(x=periodBounds[0][1], color = \"red\")\n",
    "        \n",
    "    if name == 'trombone':\n",
    "        plt.axis([0.547, 0.557, -1, 1])\n",
    "        plt.axvline(x=periodBounds[0][0], color = \"red\")\n",
    "        plt.axvline(x=periodBounds[0][1], color = \"red\")\n",
    "    \n",
    "    plt.xlabel('t [ms]', fontsize=16)\n",
    "    plt.ylabel('y(t)', fontsize=16)\n",
    "    \n",
    "plt.savefig(\"../results/analysed/\" + name + \"_period.pdf\")\n",
    "\n",
    "note_period = (periodBounds[0][1] - periodBounds[0][0])*1000\n",
    "print(note_period)\n",
    "print(\"Frequency: \" + str(1/note_period*1000))"
   ]
  },
  {
   "cell_type": "markdown",
   "metadata": {},
   "source": [
    "# Reconstruct the sound up to N harmonics"
   ]
  },
  {
   "cell_type": "code",
   "execution_count": null,
   "metadata": {
    "scrolled": true
   },
   "outputs": [],
   "source": [
    "for P, R in zip(periods, rates):\n",
    "    F, functions, powers = approximateUpToNthHarmonic(P, R, 15, note_period, \"guitar_nylon\") #returns coefficients of Fourier series and functions and makes plots\n"
   ]
  },
  {
   "cell_type": "markdown",
   "metadata": {},
   "source": [
    "### Draw individual harmonics and write their function"
   ]
  },
  {
   "cell_type": "code",
   "execution_count": null,
   "metadata": {
    "scrolled": true
   },
   "outputs": [],
   "source": [
    "#draw_harmonics(functions, 0, 8, -1, 0.5, \"cello\", limit_N = 30)\n",
    "#draw_harmonics(functions, 0, 10, -0.8, 0.8, \"clarinet\", limit_N = 10)\n",
    "#draw_harmonics(functions, 0, 10, -1, 0.7, \"double_bass\", limit_N = 30)\n",
    "#draw_harmonics(functions, 0, 20, -1, 1, \"vocal\", limit_N = 20)\n",
    "#draw_harmonics(functions, 0, 20, -0.8, 0.8, \"flute\", limit_N = 10)\n",
    "draw_harmonics(functions, 0, 4, -0.07, 0.07, \"guitar_nylon\", limit_N = 20)\n",
    "#draw_harmonics(functions, 0, 20, -0.6, 0.6, \"oboe\", limit_N = 20)\n",
    "#draw_harmonics(functions, 0, 20, -0.4, 0.4, \"piano\", limit_N = 20)\n",
    "#draw_harmonics(functions, 0, 20, -0.8, 0.8, \"piccolo\", limit_N = 10)\n",
    "#draw_harmonics(functions, 0, 20, -0.8, 0.8, \"sax_alto\", limit_N = 10)\n",
    "#draw_harmonics(functions, 0, 20, -0.8, 0.8, \"sax_baritone\", limit_N = 35)\n",
    "#draw_harmonics(functions, 0, 20, -0.8, 0.8, \"sax_soprano\", limit_N = 10)\n",
    "#draw_harmonics(functions, 0, 20, -0.8, 0.8, \"sax_tenor\", limit_N = 18)\n",
    "#draw_harmonics(functions, 0, 20, -0.1, 0.1, \"guitar_metal\", limit_N = 20)\n",
    "#draw_harmonics(functions, 0, 20, -0.35, 0.35, \"trumpet\", limit_N = 15)\n",
    "#draw_harmonics(functions, 0, 20, -0.9, 0.9, \"violin\", limit_N = 15)\n",
    "#draw_harmonics(functions, 0, 20, -0.8, 0.8, \"trombone\", limit_N = 20)"
   ]
  },
  {
   "cell_type": "markdown",
   "metadata": {},
   "source": [
    "### Find harmonics in sound and their relative power using librosa"
   ]
  },
  {
   "cell_type": "code",
   "execution_count": null,
   "metadata": {},
   "outputs": [],
   "source": [
    "# Load the waveform from a wav file\n",
    "#waveform, sample_rate = librosa.load('./instrument_samples/cello-c3_16bit.WAV')\n",
    "waveform, sample_rate = librosa.load('../data/instrument_samples/clarinet-c5_16_bit.WAV')\n",
    "waveform, sample_rate = librosa.load('../data/instrument_samples/double-bass-c3_16_bit.WAV')\n",
    "\n",
    "# Compute the power spectrum of the waveform\n",
    "power_spectrum = np.abs(np.fft.rfft(waveform))**2\n",
    "\n",
    "# Determine the harmonic frequencies and their relative power\n",
    "harmonic_frequencies = np.fft.rfftfreq(waveform.size, d=1/sample_rate)\n",
    "harmonic_powers = power_spectrum / np.sum(power_spectrum)\n",
    "\n",
    "# Select only frequencies with relative power > 0.001\n",
    "#harmonics = harmonic_frequencies[harmonic_powers > 0.001]\n",
    "#powers = harmonic_powers[harmonic_powers > 0.001]\n",
    "harmonics = harmonic_frequencies[harmonic_frequencies < 1500]\n",
    "powers_librosa = harmonic_powers[harmonic_frequencies < 1500]\n",
    "\n",
    "# Plot the power spectrum\n",
    "plt.plot(harmonics, powers_librosa)\n",
    "plt.xlabel('Frequency (Hz)')\n",
    "plt.ylabel('Relative Power')\n",
    "plt.show()"
   ]
  },
  {
   "cell_type": "code",
   "execution_count": null,
   "metadata": {},
   "outputs": [],
   "source": [
    "df = pd.DataFrame({'frequency': harmonics, 'powers': powers_librosa})\n",
    "df[\"harmonic\"] = df['frequency']/(1/note_period*1000)\n",
    "df['harmonic'] = df['harmonic'].astype(int)"
   ]
  },
  {
   "cell_type": "code",
   "execution_count": null,
   "metadata": {},
   "outputs": [],
   "source": [
    "df = df.sort_values('powers', ascending=False)\n",
    "df.head(20)"
   ]
  },
  {
   "cell_type": "markdown",
   "metadata": {},
   "source": [
    "# Generate sound of each harmonic"
   ]
  },
  {
   "cell_type": "code",
   "execution_count": null,
   "metadata": {},
   "outputs": [],
   "source": [
    "produce_sound(functions, powers, \"sax_baritone\", limit_N = 60)"
   ]
  },
  {
   "cell_type": "code",
   "execution_count": null,
   "metadata": {},
   "outputs": [],
   "source": []
  }
 ],
 "metadata": {
  "kernelspec": {
   "display_name": "Python 3 (ipykernel)",
   "language": "python",
   "name": "python3"
  },
  "language_info": {
   "codemirror_mode": {
    "name": "ipython",
    "version": 3
   },
   "file_extension": ".py",
   "mimetype": "text/x-python",
   "name": "python",
   "nbconvert_exporter": "python",
   "pygments_lexer": "ipython3",
   "version": "3.9.16"
  }
 },
 "nbformat": 4,
 "nbformat_minor": 4
}
