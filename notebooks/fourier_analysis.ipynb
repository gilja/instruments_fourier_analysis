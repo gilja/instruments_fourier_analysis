{
 "cells": [
  {
   "cell_type": "code",
   "execution_count": 1,
   "metadata": {},
   "outputs": [],
   "source": [
    "import os\n",
    "import sys\n",
    "sys.path.append('../')\n",
    "\n",
    "from settings import config as cfg\n",
    "from utils import io_utils as iou\n",
    "from utils import waveform_plot_utils as wpu\n",
    "from utils import fourier_math_utils as fmu\n",
    "from settings import period_bounds as pb\n",
    "from utils import general_display_utils as gdu\n",
    "\n",
    "import pyaudio\n",
    "import numpy as np\n",
    "#import scipio\n",
    "from scipy.io import wavfile\n",
    "from scipy.io.wavfile import write\n",
    "from io import BytesIO\n",
    "from IPython.display import Audio, display, HTML\n",
    "import matplotlib.pyplot as plt\n",
    "from weasyprint import HTML\n",
    "import sympy\n",
    "import librosa\n",
    "import pandas as pd\n",
    "import re\n",
    "\n",
    "from IPython.display import Audio\n",
    "import ipywidgets as widgets\n",
    "\n",
    "import plotly.graph_objs as go\n",
    "from plotly.subplots import make_subplots\n",
    "from IPython.display import display, clear_output\n",
    "import math\n",
    "import plotly.io as pio"
   ]
  },
  {
   "cell_type": "markdown",
   "metadata": {},
   "source": [
    "Function that draws each harmonic"
   ]
  },
  {
   "cell_type": "code",
   "execution_count": null,
   "metadata": {},
   "outputs": [],
   "source": [
    "def draw_harmonics(functions, x_min, x_max, y_min, y_max, name, limit_N):\n",
    "    \n",
    "    for N, i in enumerate(functions):\n",
    "    \n",
    "        # parse the function string using sympy\n",
    "        t = sympy.symbols('t')\n",
    "        f = sympy.sympify(i)\n",
    "\n",
    "        # create a list of t values within the specified range\n",
    "        t_values = np.linspace(x_min, x_max, 1000)\n",
    "\n",
    "        # evaluate the function for each value of t\n",
    "        y_values = [f.evalf(subs={t: value}) for value in t_values]\n",
    "\n",
    "        # plot the function using matplotlib\n",
    "        plt.plot(t_values, y_values)\n",
    "\n",
    "        # set the x and y axis limits\n",
    "        plt.xlim(x_min, x_max)\n",
    "        plt.ylim(y_min, y_max)\n",
    "\n",
    "        # add labels and a title to the plot\n",
    "        plt.xlabel('t [ms]', fontsize=16)\n",
    "        plt.ylabel('y(t)', fontsize=16)\n",
    "        plt.title('Plot of the function y(t)', fontsize=16)\n",
    "        \n",
    "        if N < limit_N:\n",
    "            print(\"y(t) = \" + str(f))\n",
    "            print(\"y(t) = \" + sympy.latex(f))\n",
    "            plt.savefig(\"../results/analysed/f_harmonic_\" + str(N+1) + \"_\" + name + \".pdf\")\n",
    "            plt.show()"
   ]
  },
  {
   "cell_type": "markdown",
   "metadata": {},
   "source": [
    "Function that takes as a string mathematical function and extracts fourier coefficients and frequency"
   ]
  },
  {
   "cell_type": "code",
   "execution_count": null,
   "metadata": {},
   "outputs": [],
   "source": [
    "def extract_a_b_f(function):\n",
    "    a = b = frequency = 0\n",
    "    try:\n",
    "        # Extract the coefficient of the sine term\n",
    "        match = re.search(\"(-?\\d+\\.\\d+)[*]sin\\((\\d+\\.\\d+)[*]pi[*]t\\)\", function)\n",
    "        if match:\n",
    "            a = float(match.group(1))\n",
    "            frequency = float(match.group(2))/2\n",
    "        \n",
    "        # Extract the coefficient of the cosine term\n",
    "        match = re.search(\"(-?\\d+\\.\\d+)[*]cos\\((\\d+\\.\\d+)[*]pi[*]t\\)\", function)\n",
    "        if match:\n",
    "            b = float(match.group(1))\n",
    "            frequency = float(match.group(2))/2*1000\n",
    "        \n",
    "    except:\n",
    "        pass\n",
    "    return a, b, frequency"
   ]
  },
  {
   "cell_type": "markdown",
   "metadata": {},
   "source": [
    "Function that produces the sound from the function in string format"
   ]
  },
  {
   "cell_type": "code",
   "execution_count": null,
   "metadata": {},
   "outputs": [],
   "source": [
    "def produce_sound (functions, powers, name, limit_N):\n",
    "    duration = 1.5\n",
    "    total_power = np.sum(powers)\n",
    "    samples_together = 0\n",
    "    rate = 44100\n",
    "    for i, func in enumerate(functions):\n",
    "        t = sympy.symbols('t')\n",
    "        function = sympy.sympify(func)\n",
    "        a, b, f = extract_a_b_f(str(function))\n",
    "        frequency = f\n",
    "        amplitude = np.sqrt(a*a + b*b) * np.sqrt(powers[i+1] / total_power)\n",
    "        t = np.linspace(0, duration, int(duration * rate))\n",
    "        samples = amplitude * np.sin(2 * np.pi * frequency * t)\n",
    "        if i >= 0:\n",
    "            samples_together += samples\n",
    "        if i < limit_N:\n",
    "            audio = Audio(samples, rate=rate)\n",
    "            display(audio)\n",
    "            write(f\"../results/analysed/f_harmonic_{i+1}_{name}.wav\", rate, samples)"
   ]
  },
  {
   "cell_type": "markdown",
   "metadata": {},
   "source": [
    "# Loading sounds"
   ]
  },
  {
   "cell_type": "code",
   "execution_count": 2,
   "metadata": {},
   "outputs": [
    {
     "name": "stderr",
     "output_type": "stream",
     "text": [
      "/Users/duje/Documents/Lectures/2023_10_15_glazba_kroz_oci_znanstvenika/instruments_fourier_analysis/notebooks/../utils/io_utils.py:46: WavFileWarning: Chunk (non-data) not understood, skipping it.\n",
      "  sample_rate, data = wavfile.read(filename)\n"
     ]
    }
   ],
   "source": [
    "files = [os.path.join(cfg.PATH_INSTRUMENT_SAMPLES, name) for name in os.listdir(cfg.PATH_INSTRUMENT_SAMPLES)]\n",
    "files.sort(key=lambda x: x.lower()) # making sure the order is the same as in period_bounds.py config file\n",
    "sounds = []\n",
    "\n",
    "for file in files:\n",
    "    path = os.path.join(cfg.PATH_INSTRUMENT_SAMPLES, file)\n",
    "    sound, rate = iou.load_sound(path)\n",
    "    sounds.append((sound, rate))"
   ]
  },
  {
   "cell_type": "markdown",
   "metadata": {},
   "source": [
    "# Playing sounds"
   ]
  },
  {
   "cell_type": "code",
   "execution_count": 3,
   "metadata": {},
   "outputs": [
    {
     "data": {
      "application/vnd.jupyter.widget-view+json": {
       "model_id": "1f8ac194bd3f4c4491632d7aaafb2c1d",
       "version_major": 2,
       "version_minor": 0
      },
      "text/plain": [
       "VBox(children=(HBox(children=(VBox(children=(Label(value='cello c3.wav', layout=Layout(display='flex', justify…"
      ]
     },
     "metadata": {},
     "output_type": "display_data"
    }
   ],
   "source": [
    "iou.play_audio(files, n_columns=4)"
   ]
  },
  {
   "cell_type": "markdown",
   "metadata": {},
   "source": [
    "# Plotting waveforms"
   ]
  },
  {
   "cell_type": "code",
   "execution_count": 4,
   "metadata": {},
   "outputs": [
    {
     "data": {
      "application/vnd.jupyter.widget-view+json": {
       "model_id": "0967e7ebafb347cc9694465b9e381436",
       "version_major": 2,
       "version_minor": 0
      },
      "text/plain": [
       "GridBox(children=(Checkbox(value=True, description='cello_c3'), Checkbox(value=True, description='clarinet_c5'…"
      ]
     },
     "metadata": {},
     "output_type": "display_data"
    },
    {
     "data": {
      "application/vnd.jupyter.widget-view+json": {
       "model_id": "7d405fa054e44b6194545fafc2777d4d",
       "version_major": 2,
       "version_minor": 0
      },
      "text/plain": [
       "HBox(children=(Button(description='Draw', style=ButtonStyle()), Button(description='Toggle All', style=ButtonS…"
      ]
     },
     "metadata": {},
     "output_type": "display_data"
    }
   ],
   "source": [
    "wpu.plot_waveform(sounds, cfg.WAVEFORM_ZOOM_PERCENTAGES, files)"
   ]
  },
  {
   "cell_type": "markdown",
   "metadata": {},
   "source": [
    "# Extracting period"
   ]
  },
  {
   "cell_type": "code",
   "execution_count": 5,
   "metadata": {},
   "outputs": [
    {
     "data": {
      "application/vnd.jupyter.widget-view+json": {
       "model_id": "b8046ebce93b46bcaaab0994987d0a4f",
       "version_major": 2,
       "version_minor": 0
      },
      "text/plain": [
       "GridBox(children=(Checkbox(value=True, description='cello_c3'), Checkbox(value=True, description='clarinet_c5'…"
      ]
     },
     "metadata": {},
     "output_type": "display_data"
    },
    {
     "data": {
      "application/vnd.jupyter.widget-view+json": {
       "model_id": "13903adfb83845058d87377d5d720aca",
       "version_major": 2,
       "version_minor": 0
      },
      "text/plain": [
       "HBox(children=(Button(description='Draw', style=ButtonStyle()), Button(description='Toggle All', style=ButtonS…"
      ]
     },
     "metadata": {},
     "output_type": "display_data"
    }
   ],
   "source": [
    "periods = []\n",
    "rates = []\n",
    "\n",
    "one_period_signals, sample_rates = fmu.extract_periods_and_data_rates(sounds)\n",
    "one_period_audios = iou.export_and_store_one_period_audio(files, one_period_signals, sample_rates)\n",
    "\n",
    "wpu.plot_waveform(sounds, cfg.WAVEFORM_ZOOM_PERCENTAGES, files, mark_one_period = True)"
   ]
  },
  {
   "cell_type": "markdown",
   "metadata": {},
   "source": [
    "# Calculating Fourier coefficients"
   ]
  },
  {
   "cell_type": "code",
   "execution_count": 6,
   "metadata": {},
   "outputs": [],
   "source": [
    "fourier_coefficients_per_instrument = []\n",
    "\n",
    "for one_period_signal, N in zip(one_period_signals, cfg.N_HARMONICS_PER_INSTRUMENT):\n",
    "    fourier_coefficients_per_instrument.append(fmu.calculate_fourier_coefficients(one_period_signal, N))"
   ]
  },
  {
   "cell_type": "markdown",
   "metadata": {},
   "source": [
    "# Representing signal as mathematical function"
   ]
  },
  {
   "cell_type": "code",
   "execution_count": 7,
   "metadata": {},
   "outputs": [
    {
     "data": {
      "application/vnd.jupyter.widget-view+json": {
       "model_id": "5732b09421814745ba90fdd344cc352a",
       "version_major": 2,
       "version_minor": 0
      },
      "text/plain": [
       "GridBox(children=(Checkbox(value=True, description='cello_c3'), Checkbox(value=True, description='clarinet_c5'…"
      ]
     },
     "metadata": {},
     "output_type": "display_data"
    },
    {
     "data": {
      "application/vnd.jupyter.widget-view+json": {
       "model_id": "f3a9ed6a80bb44e6bd7213fcfad20986",
       "version_major": 2,
       "version_minor": 0
      },
      "text/plain": [
       "HBox(children=(Button(description='Display Function', style=ButtonStyle()), Button(description='Toggle All', s…"
      ]
     },
     "metadata": {},
     "output_type": "display_data"
    }
   ],
   "source": [
    "mathematical_representation_of_signal_per_instrument = []\n",
    "\n",
    "for fourier_coefficients, period_bounds in zip(fourier_coefficients_per_instrument, pb.PERIOD_BOUNDS.values()):\n",
    "    T = period_bounds[1] - period_bounds[0]\n",
    "    mathematical_representation_of_signal_per_instrument.append(fmu.get_mathematical_representation_of_signal(fourier_coefficients, T))\n",
    "\n",
    "gdu.print_mathematical_representation_of_signal(files, mathematical_representation_of_signal_per_instrument)"
   ]
  },
  {
   "cell_type": "markdown",
   "metadata": {},
   "source": [
    "# Reconstruct original signal"
   ]
  },
  {
   "cell_type": "code",
   "execution_count": 8,
   "metadata": {},
   "outputs": [
    {
     "data": {
      "application/vnd.jupyter.widget-view+json": {
       "model_id": "373583e8f69441698ad186c4a67d5ee9",
       "version_major": 2,
       "version_minor": 0
      },
      "text/plain": [
       "GridBox(children=(Checkbox(value=True, description='cello_c3'), Checkbox(value=True, description='clarinet_c5'…"
      ]
     },
     "metadata": {},
     "output_type": "display_data"
    },
    {
     "data": {
      "application/vnd.jupyter.widget-view+json": {
       "model_id": "9c8e386512d34c708a08d4211d6a3db0",
       "version_major": 2,
       "version_minor": 0
      },
      "text/plain": [
       "HBox(children=(Button(description='Display', style=ButtonStyle()), Button(description='Toggle All', style=Butt…"
      ]
     },
     "metadata": {},
     "output_type": "display_data"
    }
   ],
   "source": [
    "reconstructed_signals = []\n",
    "\n",
    "for one_period_signal, fourier_coefficients in zip(one_period_signals, fourier_coefficients_per_instrument):\n",
    "    reconstructed_signals.append(fmu.reconstruct_original_signal(one_period_signal, fourier_coefficients))\n",
    "    \n",
    "gdu.display_reconstructed_and_original_audio(files, reconstructed_signals, one_period_signals, sample_rates)"
   ]
  },
  {
   "cell_type": "markdown",
   "metadata": {},
   "source": [
    "# Drawing power spectra of harmonics"
   ]
  },
  {
   "cell_type": "code",
   "execution_count": 9,
   "metadata": {},
   "outputs": [
    {
     "data": {
      "application/vnd.jupyter.widget-view+json": {
       "model_id": "a77504d8a3dd462da19f91ee939057be",
       "version_major": 2,
       "version_minor": 0
      },
      "text/plain": [
       "GridBox(children=(Checkbox(value=False, description='cello_c3'), Checkbox(value=True, description='clarinet_c5…"
      ]
     },
     "metadata": {},
     "output_type": "display_data"
    },
    {
     "data": {
      "application/vnd.jupyter.widget-view+json": {
       "model_id": "91912e7ae063472ca305888acae7aef4",
       "version_major": 2,
       "version_minor": 0
      },
      "text/plain": [
       "HBox(children=(Button(description='Plot Joined', style=ButtonStyle()), Button(description='Plot Individual', s…"
      ]
     },
     "metadata": {},
     "output_type": "display_data"
    },
    {
     "name": "stdout",
     "output_type": "stream",
     "text": [
      "Saved individual plot to ./results/analysed/power_spectra/\n",
      "Saved individual plot to ./results/analysed/power_spectra/\n"
     ]
    }
   ],
   "source": [
    "relative_harmonic_powers_per_instrument = []\n",
    "\n",
    "for fourier_coefficients in fourier_coefficients_per_instrument:\n",
    "    relative_harmonic_powers_per_instrument.append(fmu.calculate_harmonic_power_spectrum(fourier_coefficients))\n",
    "    \n",
    "gdu.draw_harmonics_power_spectra(files, relative_harmonic_powers_per_instrument)"
   ]
  },
  {
   "cell_type": "code",
   "execution_count": null,
   "metadata": {},
   "outputs": [],
   "source": []
  },
  {
   "cell_type": "code",
   "execution_count": null,
   "metadata": {},
   "outputs": [],
   "source": []
  },
  {
   "cell_type": "code",
   "execution_count": null,
   "metadata": {},
   "outputs": [],
   "source": []
  },
  {
   "cell_type": "code",
   "execution_count": null,
   "metadata": {},
   "outputs": [],
   "source": []
  },
  {
   "cell_type": "code",
   "execution_count": null,
   "metadata": {},
   "outputs": [],
   "source": []
  },
  {
   "cell_type": "code",
   "execution_count": null,
   "metadata": {},
   "outputs": [],
   "source": []
  },
  {
   "cell_type": "markdown",
   "metadata": {},
   "source": [
    "### Draw individual harmonics and write their function"
   ]
  },
  {
   "cell_type": "code",
   "execution_count": null,
   "metadata": {
    "scrolled": true
   },
   "outputs": [],
   "source": [
    "#draw_harmonics(functions, 0, 8, -1, 0.5, \"cello\", limit_N = 30)\n",
    "#draw_harmonics(functions, 0, 10, -0.8, 0.8, \"clarinet\", limit_N = 10)\n",
    "#draw_harmonics(functions, 0, 10, -1, 0.7, \"double_bass\", limit_N = 30)\n",
    "#draw_harmonics(functions, 0, 20, -1, 1, \"vocal\", limit_N = 20)\n",
    "#draw_harmonics(functions, 0, 20, -0.8, 0.8, \"flute\", limit_N = 10)\n",
    "draw_harmonics(functions, 0, 4, -0.07, 0.07, \"guitar_nylon\", limit_N = 20)\n",
    "#draw_harmonics(functions, 0, 20, -0.6, 0.6, \"oboe\", limit_N = 20)\n",
    "#draw_harmonics(functions, 0, 20, -0.4, 0.4, \"piano\", limit_N = 20)\n",
    "#draw_harmonics(functions, 0, 20, -0.8, 0.8, \"piccolo\", limit_N = 10)\n",
    "#draw_harmonics(functions, 0, 20, -0.8, 0.8, \"sax_alto\", limit_N = 10)\n",
    "#draw_harmonics(functions, 0, 20, -0.8, 0.8, \"sax_baritone\", limit_N = 35)\n",
    "#draw_harmonics(functions, 0, 20, -0.8, 0.8, \"sax_soprano\", limit_N = 10)\n",
    "#draw_harmonics(functions, 0, 20, -0.8, 0.8, \"sax_tenor\", limit_N = 18)\n",
    "#draw_harmonics(functions, 0, 20, -0.1, 0.1, \"guitar_metal\", limit_N = 20)\n",
    "#draw_harmonics(functions, 0, 20, -0.35, 0.35, \"trumpet\", limit_N = 15)\n",
    "#draw_harmonics(functions, 0, 20, -0.9, 0.9, \"violin\", limit_N = 15)\n",
    "#draw_harmonics(functions, 0, 20, -0.8, 0.8, \"trombone\", limit_N = 20)"
   ]
  },
  {
   "cell_type": "markdown",
   "metadata": {},
   "source": [
    "### Find harmonics in sound and their relative power using librosa"
   ]
  },
  {
   "cell_type": "code",
   "execution_count": null,
   "metadata": {},
   "outputs": [],
   "source": [
    "# Load the waveform from a wav file\n",
    "#waveform, sample_rate = librosa.load('./instrument_samples/cello-c3_16bit.WAV')\n",
    "waveform, sample_rate = librosa.load('../data/instrument_samples/clarinet-c5_16_bit.WAV')\n",
    "waveform, sample_rate = librosa.load('../data/instrument_samples/double-bass-c3_16_bit.WAV')\n",
    "\n",
    "# Compute the power spectrum of the waveform\n",
    "power_spectrum = np.abs(np.fft.rfft(waveform))**2\n",
    "\n",
    "# Determine the harmonic frequencies and their relative power\n",
    "harmonic_frequencies = np.fft.rfftfreq(waveform.size, d=1/sample_rate)\n",
    "harmonic_powers = power_spectrum / np.sum(power_spectrum)\n",
    "\n",
    "# Select only frequencies with relative power > 0.001\n",
    "#harmonics = harmonic_frequencies[harmonic_powers > 0.001]\n",
    "#powers = harmonic_powers[harmonic_powers > 0.001]\n",
    "harmonics = harmonic_frequencies[harmonic_frequencies < 1500]\n",
    "powers_librosa = harmonic_powers[harmonic_frequencies < 1500]\n",
    "\n",
    "# Plot the power spectrum\n",
    "plt.plot(harmonics, powers_librosa)\n",
    "plt.xlabel('Frequency (Hz)')\n",
    "plt.ylabel('Relative Power')\n",
    "plt.show()"
   ]
  },
  {
   "cell_type": "code",
   "execution_count": null,
   "metadata": {},
   "outputs": [],
   "source": [
    "df = pd.DataFrame({'frequency': harmonics, 'powers': powers_librosa})\n",
    "df[\"harmonic\"] = df['frequency']/(1/note_period*1000)\n",
    "df['harmonic'] = df['harmonic'].astype(int)"
   ]
  },
  {
   "cell_type": "code",
   "execution_count": null,
   "metadata": {},
   "outputs": [],
   "source": [
    "df = df.sort_values('powers', ascending=False)\n",
    "df.head(20)"
   ]
  },
  {
   "cell_type": "markdown",
   "metadata": {},
   "source": [
    "# Generate sound of each harmonic"
   ]
  },
  {
   "cell_type": "code",
   "execution_count": null,
   "metadata": {},
   "outputs": [],
   "source": [
    "produce_sound(functions, powers, \"sax_baritone\", limit_N = 60)"
   ]
  }
 ],
 "metadata": {
  "kernelspec": {
   "display_name": "Python 3 (ipykernel)",
   "language": "python",
   "name": "python3"
  },
  "language_info": {
   "codemirror_mode": {
    "name": "ipython",
    "version": 3
   },
   "file_extension": ".py",
   "mimetype": "text/x-python",
   "name": "python",
   "nbconvert_exporter": "python",
   "pygments_lexer": "ipython3",
   "version": "3.9.16"
  }
 },
 "nbformat": 4,
 "nbformat_minor": 4
}
