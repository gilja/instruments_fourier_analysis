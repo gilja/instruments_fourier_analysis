{
 "cells": [
  {
   "cell_type": "code",
   "execution_count": null,
   "metadata": {},
   "outputs": [],
   "source": [
    "import os\n",
    "import sys\n",
    "sys.path.append('../')\n",
    "\n",
    "from settings import config as cfg\n",
    "from utils import io_utils as iou\n",
    "from utils import waveform_plot_utils as wpu\n",
    "from utils import fourier_math_utils as fmu\n",
    "from settings import period_bounds as pb\n",
    "from utils import general_display_utils as gdu"
   ]
  },
  {
   "cell_type": "markdown",
   "metadata": {},
   "source": [
    "# Prepare directory structure"
   ]
  },
  {
   "cell_type": "code",
   "execution_count": null,
   "metadata": {},
   "outputs": [],
   "source": [
    "iou.create_directory_structure()"
   ]
  },
  {
   "cell_type": "markdown",
   "metadata": {},
   "source": [
    "# Loading sounds"
   ]
  },
  {
   "cell_type": "code",
   "execution_count": null,
   "metadata": {},
   "outputs": [],
   "source": [
    "files = [os.path.join(cfg.PATH_INSTRUMENT_SAMPLES, name) for name in os.listdir(cfg.PATH_INSTRUMENT_SAMPLES)]\n",
    "files.sort(key=lambda x: x.lower()) # making sure the order is the same as in period_bounds.py config file\n",
    "sounds = []\n",
    "\n",
    "for file in files:\n",
    "    path = os.path.join(cfg.PATH_INSTRUMENT_SAMPLES, file)\n",
    "    sound, rate = iou.load_sound(path)\n",
    "    sounds.append((sound, rate))"
   ]
  },
  {
   "cell_type": "markdown",
   "metadata": {},
   "source": [
    "# Playing sounds"
   ]
  },
  {
   "cell_type": "code",
   "execution_count": null,
   "metadata": {},
   "outputs": [],
   "source": [
    "iou.play_audio(files, n_columns=4)"
   ]
  },
  {
   "cell_type": "markdown",
   "metadata": {},
   "source": [
    "# Plotting waveforms"
   ]
  },
  {
   "cell_type": "code",
   "execution_count": null,
   "metadata": {},
   "outputs": [],
   "source": [
    "wpu.plot_waveform(sounds, files)"
   ]
  },
  {
   "cell_type": "markdown",
   "metadata": {},
   "source": [
    "# Extracting period"
   ]
  },
  {
   "cell_type": "code",
   "execution_count": null,
   "metadata": {},
   "outputs": [],
   "source": [
    "periods = []\n",
    "rates = []\n",
    "\n",
    "one_period_signals, sample_rates = fmu.extract_periods_and_data_rates(sounds)\n",
    "one_period_audios = iou.export_and_store_one_period_audio(files, one_period_signals, sample_rates)\n",
    "\n",
    "wpu.plot_waveform(sounds, files, mark_one_period = True)"
   ]
  },
  {
   "cell_type": "markdown",
   "metadata": {},
   "source": [
    "# Calculating Fourier coefficients"
   ]
  },
  {
   "cell_type": "code",
   "execution_count": null,
   "metadata": {},
   "outputs": [],
   "source": [
    "fourier_coefficients_per_instrument = []\n",
    "\n",
    "for one_period_signal, N in zip(one_period_signals, cfg.N_HARMONICS_PER_INSTRUMENT):\n",
    "    fourier_coefficients_per_instrument.append(fmu.calculate_fourier_coefficients(one_period_signal, N))"
   ]
  },
  {
   "cell_type": "markdown",
   "metadata": {},
   "source": [
    "# Representing signal as mathematical function"
   ]
  },
  {
   "cell_type": "code",
   "execution_count": null,
   "metadata": {},
   "outputs": [],
   "source": [
    "mathematical_representation_of_signal_per_instrument = []\n",
    "\n",
    "for fourier_coefficients, period_bounds in zip(fourier_coefficients_per_instrument, pb.PERIOD_BOUNDS.values()):\n",
    "    T = period_bounds[1] - period_bounds[0]\n",
    "    mathematical_representation_of_signal_per_instrument.append(fmu.get_mathematical_representation_of_signal(fourier_coefficients, T))\n",
    "\n",
    "gdu.print_mathematical_representation_of_signal(files, mathematical_representation_of_signal_per_instrument)"
   ]
  },
  {
   "cell_type": "markdown",
   "metadata": {},
   "source": [
    "# Reconstruct original signal"
   ]
  },
  {
   "cell_type": "code",
   "execution_count": null,
   "metadata": {},
   "outputs": [],
   "source": [
    "reconstructed_signals = []\n",
    "\n",
    "for one_period_signal, fourier_coefficients in zip(one_period_signals, fourier_coefficients_per_instrument):\n",
    "    reconstructed_signals.append(fmu.reconstruct_original_signal(one_period_signal, fourier_coefficients))\n",
    "    \n",
    "gdu.display_reconstructed_and_original_audio(files, reconstructed_signals, one_period_signals, sample_rates)"
   ]
  },
  {
   "cell_type": "markdown",
   "metadata": {},
   "source": [
    "# Drawing power spectra of harmonics"
   ]
  },
  {
   "cell_type": "code",
   "execution_count": null,
   "metadata": {},
   "outputs": [],
   "source": [
    "relative_harmonic_powers_per_instrument = []\n",
    "\n",
    "for fourier_coefficients in fourier_coefficients_per_instrument:\n",
    "    relative_harmonic_powers_per_instrument.append(fmu.calculate_harmonic_power_spectrum(fourier_coefficients))\n",
    "    \n",
    "gdu.draw_harmonics_power_spectra(files, relative_harmonic_powers_per_instrument)"
   ]
  },
  {
   "cell_type": "markdown",
   "metadata": {},
   "source": [
    "# Plotting individual harmonics"
   ]
  },
  {
   "cell_type": "code",
   "execution_count": null,
   "metadata": {},
   "outputs": [],
   "source": [
    "gdu.plot_individual_harmonics(\n",
    "    files, mathematical_representation_of_signal_per_instrument\n",
    ")"
   ]
  },
  {
   "cell_type": "markdown",
   "metadata": {},
   "source": [
    "# Show reconstruction timeline"
   ]
  },
  {
   "cell_type": "code",
   "execution_count": null,
   "metadata": {},
   "outputs": [],
   "source": [
    "wpu.draw_waveform_reconstruction_timeline(files, one_period_signals, sample_rates)"
   ]
  },
  {
   "cell_type": "markdown",
   "metadata": {},
   "source": [
    "# Save sound of each harmonic"
   ]
  },
  {
   "cell_type": "code",
   "execution_count": null,
   "metadata": {},
   "outputs": [],
   "source": [
    "iou.save_harmonics_sounds(files, mathematical_representation_of_signal_per_instrument, relative_harmonic_powers_per_instrument)"
   ]
  }
 ],
 "metadata": {
  "kernelspec": {
   "display_name": "Python 3 (ipykernel)",
   "language": "python",
   "name": "python3"
  },
  "language_info": {
   "codemirror_mode": {
    "name": "ipython",
    "version": 3
   },
   "file_extension": ".py",
   "mimetype": "text/x-python",
   "name": "python",
   "nbconvert_exporter": "python",
   "pygments_lexer": "ipython3",
   "version": "3.9.16"
  }
 },
 "nbformat": 4,
 "nbformat_minor": 4
}
